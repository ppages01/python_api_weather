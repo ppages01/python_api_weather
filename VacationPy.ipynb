{
 "cells": [
  {
   "cell_type": "markdown",
   "metadata": {},
   "source": [
    "# VacationPy\n",
    "----\n",
    "\n",
    "#### Note\n",
    "* Instructions have been included for each segment. You do not have to follow them exactly, but they are included to help you think through the steps."
   ]
  },
  {
   "cell_type": "code",
   "execution_count": 51,
   "metadata": {
    "ExecuteTime": {
     "end_time": "2020-10-04T04:01:53.380426Z",
     "start_time": "2020-10-04T04:01:53.375425Z"
    }
   },
   "outputs": [],
   "source": [
    "# Dependencies and Setup\n",
    "import matplotlib.pyplot as plt\n",
    "import pandas as pd\n",
    "import numpy as np\n",
    "import requests\n",
    "import gmaps\n",
    "import os\n",
    "\n",
    "# Import API key\n",
    "from decouple import config\n",
    "g_key = config('g_key')\n",
    "\n"
   ]
  },
  {
   "cell_type": "code",
   "execution_count": 52,
   "metadata": {
    "ExecuteTime": {
     "end_time": "2020-10-04T04:01:53.923430Z",
     "start_time": "2020-10-04T04:01:53.920430Z"
    }
   },
   "outputs": [],
   "source": [
    "#use your own key by commenting out my g_key above and uncomment the code below. When prompted at runtime, \n",
    "# Paste your key and run\n",
    "#g_key = input('your key:')"
   ]
  },
  {
   "cell_type": "markdown",
   "metadata": {},
   "source": [
    "### Store Part I results into DataFrame\n",
    "* Load the csv exported in Part I to a DataFrame"
   ]
  },
  {
   "cell_type": "code",
   "execution_count": 53,
   "metadata": {
    "ExecuteTime": {
     "end_time": "2020-10-04T04:01:55.070424Z",
     "start_time": "2020-10-04T04:01:55.062918Z"
    }
   },
   "outputs": [],
   "source": [
    "df = pd.read_csv('output_data/cities.csv')"
   ]
  },
  {
   "cell_type": "code",
   "execution_count": 54,
   "metadata": {
    "ExecuteTime": {
     "end_time": "2020-10-04T04:01:55.823921Z",
     "start_time": "2020-10-04T04:01:55.800922Z"
    }
   },
   "outputs": [
    {
     "data": {
      "text/html": [
       "<div>\n",
       "<style scoped>\n",
       "    .dataframe tbody tr th:only-of-type {\n",
       "        vertical-align: middle;\n",
       "    }\n",
       "\n",
       "    .dataframe tbody tr th {\n",
       "        vertical-align: top;\n",
       "    }\n",
       "\n",
       "    .dataframe thead th {\n",
       "        text-align: right;\n",
       "    }\n",
       "</style>\n",
       "<table border=\"1\" class=\"dataframe\">\n",
       "  <thead>\n",
       "    <tr style=\"text-align: right;\">\n",
       "      <th></th>\n",
       "      <th>City</th>\n",
       "      <th>Cloudiness</th>\n",
       "      <th>Country</th>\n",
       "      <th>Date</th>\n",
       "      <th>Humidity</th>\n",
       "      <th>Lat</th>\n",
       "      <th>Lng</th>\n",
       "      <th>Max Temp</th>\n",
       "      <th>Wind Speed</th>\n",
       "    </tr>\n",
       "  </thead>\n",
       "  <tbody>\n",
       "    <tr>\n",
       "      <th>0</th>\n",
       "      <td>Albany</td>\n",
       "      <td>100</td>\n",
       "      <td>US</td>\n",
       "      <td>1601646826</td>\n",
       "      <td>90</td>\n",
       "      <td>42.60</td>\n",
       "      <td>-73.97</td>\n",
       "      <td>53.01</td>\n",
       "      <td>6.24</td>\n",
       "    </tr>\n",
       "    <tr>\n",
       "      <th>1</th>\n",
       "      <td>Nouadhibou</td>\n",
       "      <td>0</td>\n",
       "      <td>MR</td>\n",
       "      <td>1601646827</td>\n",
       "      <td>43</td>\n",
       "      <td>20.93</td>\n",
       "      <td>-17.03</td>\n",
       "      <td>87.80</td>\n",
       "      <td>26.40</td>\n",
       "    </tr>\n",
       "    <tr>\n",
       "      <th>2</th>\n",
       "      <td>Caruray</td>\n",
       "      <td>93</td>\n",
       "      <td>PH</td>\n",
       "      <td>1601646827</td>\n",
       "      <td>77</td>\n",
       "      <td>10.31</td>\n",
       "      <td>119.01</td>\n",
       "      <td>82.15</td>\n",
       "      <td>2.04</td>\n",
       "    </tr>\n",
       "    <tr>\n",
       "      <th>3</th>\n",
       "      <td>Asău</td>\n",
       "      <td>82</td>\n",
       "      <td>RO</td>\n",
       "      <td>1601646827</td>\n",
       "      <td>73</td>\n",
       "      <td>46.43</td>\n",
       "      <td>26.40</td>\n",
       "      <td>64.99</td>\n",
       "      <td>4.47</td>\n",
       "    </tr>\n",
       "    <tr>\n",
       "      <th>4</th>\n",
       "      <td>Muzhi</td>\n",
       "      <td>100</td>\n",
       "      <td>RU</td>\n",
       "      <td>1601646827</td>\n",
       "      <td>77</td>\n",
       "      <td>65.37</td>\n",
       "      <td>64.67</td>\n",
       "      <td>48.34</td>\n",
       "      <td>10.80</td>\n",
       "    </tr>\n",
       "    <tr>\n",
       "      <th>...</th>\n",
       "      <td>...</td>\n",
       "      <td>...</td>\n",
       "      <td>...</td>\n",
       "      <td>...</td>\n",
       "      <td>...</td>\n",
       "      <td>...</td>\n",
       "      <td>...</td>\n",
       "      <td>...</td>\n",
       "      <td>...</td>\n",
       "    </tr>\n",
       "    <tr>\n",
       "      <th>529</th>\n",
       "      <td>Kulhudhuffushi</td>\n",
       "      <td>49</td>\n",
       "      <td>MV</td>\n",
       "      <td>1601646968</td>\n",
       "      <td>75</td>\n",
       "      <td>6.62</td>\n",
       "      <td>73.07</td>\n",
       "      <td>82.20</td>\n",
       "      <td>10.98</td>\n",
       "    </tr>\n",
       "    <tr>\n",
       "      <th>530</th>\n",
       "      <td>Huilong</td>\n",
       "      <td>84</td>\n",
       "      <td>CN</td>\n",
       "      <td>1601646969</td>\n",
       "      <td>82</td>\n",
       "      <td>31.81</td>\n",
       "      <td>121.66</td>\n",
       "      <td>73.99</td>\n",
       "      <td>1.99</td>\n",
       "    </tr>\n",
       "    <tr>\n",
       "      <th>531</th>\n",
       "      <td>Linguère</td>\n",
       "      <td>0</td>\n",
       "      <td>SN</td>\n",
       "      <td>1601646969</td>\n",
       "      <td>13</td>\n",
       "      <td>15.40</td>\n",
       "      <td>-15.12</td>\n",
       "      <td>107.01</td>\n",
       "      <td>12.03</td>\n",
       "    </tr>\n",
       "    <tr>\n",
       "      <th>532</th>\n",
       "      <td>Kuching</td>\n",
       "      <td>40</td>\n",
       "      <td>MY</td>\n",
       "      <td>1601646862</td>\n",
       "      <td>100</td>\n",
       "      <td>1.55</td>\n",
       "      <td>110.33</td>\n",
       "      <td>77.00</td>\n",
       "      <td>3.36</td>\n",
       "    </tr>\n",
       "    <tr>\n",
       "      <th>533</th>\n",
       "      <td>Ust'ye</td>\n",
       "      <td>100</td>\n",
       "      <td>RU</td>\n",
       "      <td>1601646970</td>\n",
       "      <td>75</td>\n",
       "      <td>59.63</td>\n",
       "      <td>39.74</td>\n",
       "      <td>55.80</td>\n",
       "      <td>2.86</td>\n",
       "    </tr>\n",
       "  </tbody>\n",
       "</table>\n",
       "<p>534 rows × 9 columns</p>\n",
       "</div>"
      ],
      "text/plain": [
       "               City  Cloudiness Country        Date  Humidity    Lat     Lng  \\\n",
       "0            Albany         100      US  1601646826        90  42.60  -73.97   \n",
       "1        Nouadhibou           0      MR  1601646827        43  20.93  -17.03   \n",
       "2           Caruray          93      PH  1601646827        77  10.31  119.01   \n",
       "3              Asău          82      RO  1601646827        73  46.43   26.40   \n",
       "4             Muzhi         100      RU  1601646827        77  65.37   64.67   \n",
       "..              ...         ...     ...         ...       ...    ...     ...   \n",
       "529  Kulhudhuffushi          49      MV  1601646968        75   6.62   73.07   \n",
       "530         Huilong          84      CN  1601646969        82  31.81  121.66   \n",
       "531        Linguère           0      SN  1601646969        13  15.40  -15.12   \n",
       "532         Kuching          40      MY  1601646862       100   1.55  110.33   \n",
       "533          Ust'ye         100      RU  1601646970        75  59.63   39.74   \n",
       "\n",
       "     Max Temp  Wind Speed  \n",
       "0       53.01        6.24  \n",
       "1       87.80       26.40  \n",
       "2       82.15        2.04  \n",
       "3       64.99        4.47  \n",
       "4       48.34       10.80  \n",
       "..        ...         ...  \n",
       "529     82.20       10.98  \n",
       "530     73.99        1.99  \n",
       "531    107.01       12.03  \n",
       "532     77.00        3.36  \n",
       "533     55.80        2.86  \n",
       "\n",
       "[534 rows x 9 columns]"
      ]
     },
     "execution_count": 54,
     "metadata": {},
     "output_type": "execute_result"
    }
   ],
   "source": [
    "df"
   ]
  },
  {
   "cell_type": "markdown",
   "metadata": {},
   "source": [
    "### Humidity Heatmap\n",
    "* Configure gmaps.\n",
    "* Use the Lat and Lng as locations and Humidity as the weight.\n",
    "* Add Heatmap layer to map."
   ]
  },
  {
   "cell_type": "code",
   "execution_count": 55,
   "metadata": {
    "ExecuteTime": {
     "end_time": "2020-10-04T04:01:57.909921Z",
     "start_time": "2020-10-04T04:01:57.859909Z"
    }
   },
   "outputs": [
    {
     "data": {
      "application/vnd.jupyter.widget-view+json": {
       "model_id": "06a22280abf94160ba7e2378687995d0",
       "version_major": 2,
       "version_minor": 0
      },
      "text/plain": [
       "Figure(layout=FigureLayout(height='420px'))"
      ]
     },
     "metadata": {},
     "output_type": "display_data"
    }
   ],
   "source": [
    "locations = df[['Lat','Lng']]\n",
    "weights = df['Humidity']\n",
    "fig = gmaps.figure()\n",
    "fig.add_layer(gmaps.heatmap_layer(locations, weights=weights))\n",
    "fig\n"
   ]
  },
  {
   "cell_type": "code",
   "execution_count": null,
   "metadata": {},
   "outputs": [],
   "source": [
    "\n"
   ]
  },
  {
   "cell_type": "markdown",
   "metadata": {},
   "source": [
    "### Create new DataFrame fitting weather criteria\n",
    "* Narrow down the cities to fit weather conditions.\n",
    "* Drop any rows will null values."
   ]
  },
  {
   "cell_type": "code",
   "execution_count": 56,
   "metadata": {
    "ExecuteTime": {
     "end_time": "2020-10-04T04:02:07.277285Z",
     "start_time": "2020-10-04T04:02:07.270285Z"
    }
   },
   "outputs": [],
   "source": [
    "narrowed_df = df.loc[(df['Humidity'] < 70) & (df['Max Temp'].between(75,90)) & (df['Cloudiness'] < 45)]"
   ]
  },
  {
   "cell_type": "code",
   "execution_count": 65,
   "metadata": {
    "ExecuteTime": {
     "end_time": "2020-10-04T04:05:29.308850Z",
     "start_time": "2020-10-04T04:05:29.303850Z"
    },
    "scrolled": true
   },
   "outputs": [
    {
     "name": "stdout",
     "output_type": "stream",
     "text": [
      "38 cities meet weather conditions\n"
     ]
    }
   ],
   "source": [
    "narrowed_df.reset_index(inplace = True, drop=True)\n",
    "#narrowed_df\n",
    "count = narrowed_df['City'].count()\n",
    "print(f'{count} cities meet weather conditions')"
   ]
  },
  {
   "cell_type": "code",
   "execution_count": null,
   "metadata": {},
   "outputs": [],
   "source": []
  },
  {
   "cell_type": "markdown",
   "metadata": {},
   "source": [
    "### Hotel Map\n",
    "* Store into variable named `hotel_df`.\n",
    "* Add a \"Hotel Name\" column to the DataFrame.\n",
    "* Set parameters to search for hotels with 5000 meters.\n",
    "* Hit the Google Places API for each city's coordinates.\n",
    "* Store the first Hotel result into the DataFrame.\n",
    "* Plot markers on top of the heatmap."
   ]
  },
  {
   "cell_type": "code",
   "execution_count": 109,
   "metadata": {
    "ExecuteTime": {
     "end_time": "2020-10-04T12:48:55.556912Z",
     "start_time": "2020-10-04T12:48:55.550911Z"
    }
   },
   "outputs": [],
   "source": [
    "hotel_df = narrowed_df.assign(like=True).drop('like',axis=1)"
   ]
  },
  {
   "cell_type": "code",
   "execution_count": 110,
   "metadata": {
    "ExecuteTime": {
     "end_time": "2020-10-04T12:48:56.930886Z",
     "start_time": "2020-10-04T12:48:56.926885Z"
    }
   },
   "outputs": [],
   "source": [
    "hotel_df['Hotel Name'] = \"\""
   ]
  },
  {
   "cell_type": "code",
   "execution_count": 111,
   "metadata": {
    "ExecuteTime": {
     "end_time": "2020-10-04T12:48:57.447883Z",
     "start_time": "2020-10-04T12:48:57.431883Z"
    },
    "scrolled": true
   },
   "outputs": [
    {
     "data": {
      "text/html": [
       "<div>\n",
       "<style scoped>\n",
       "    .dataframe tbody tr th:only-of-type {\n",
       "        vertical-align: middle;\n",
       "    }\n",
       "\n",
       "    .dataframe tbody tr th {\n",
       "        vertical-align: top;\n",
       "    }\n",
       "\n",
       "    .dataframe thead th {\n",
       "        text-align: right;\n",
       "    }\n",
       "</style>\n",
       "<table border=\"1\" class=\"dataframe\">\n",
       "  <thead>\n",
       "    <tr style=\"text-align: right;\">\n",
       "      <th></th>\n",
       "      <th>City</th>\n",
       "      <th>Cloudiness</th>\n",
       "      <th>Country</th>\n",
       "      <th>Date</th>\n",
       "      <th>Humidity</th>\n",
       "      <th>Lat</th>\n",
       "      <th>Lng</th>\n",
       "      <th>Max Temp</th>\n",
       "      <th>Wind Speed</th>\n",
       "      <th>Hotel Name</th>\n",
       "    </tr>\n",
       "  </thead>\n",
       "  <tbody>\n",
       "    <tr>\n",
       "      <th>0</th>\n",
       "      <td>Nouadhibou</td>\n",
       "      <td>0</td>\n",
       "      <td>MR</td>\n",
       "      <td>1601646827</td>\n",
       "      <td>43</td>\n",
       "      <td>20.93</td>\n",
       "      <td>-17.03</td>\n",
       "      <td>87.80</td>\n",
       "      <td>26.40</td>\n",
       "      <td></td>\n",
       "    </tr>\n",
       "    <tr>\n",
       "      <th>1</th>\n",
       "      <td>Kinshasa</td>\n",
       "      <td>40</td>\n",
       "      <td>CD</td>\n",
       "      <td>1601646832</td>\n",
       "      <td>49</td>\n",
       "      <td>-4.32</td>\n",
       "      <td>15.32</td>\n",
       "      <td>89.60</td>\n",
       "      <td>4.70</td>\n",
       "      <td></td>\n",
       "    </tr>\n",
       "    <tr>\n",
       "      <th>2</th>\n",
       "      <td>Castro</td>\n",
       "      <td>1</td>\n",
       "      <td>BR</td>\n",
       "      <td>1601646836</td>\n",
       "      <td>29</td>\n",
       "      <td>-24.79</td>\n",
       "      <td>-50.01</td>\n",
       "      <td>89.91</td>\n",
       "      <td>12.46</td>\n",
       "      <td></td>\n",
       "    </tr>\n",
       "    <tr>\n",
       "      <th>3</th>\n",
       "      <td>Ponta do Sol</td>\n",
       "      <td>40</td>\n",
       "      <td>PT</td>\n",
       "      <td>1601646837</td>\n",
       "      <td>57</td>\n",
       "      <td>32.67</td>\n",
       "      <td>-17.10</td>\n",
       "      <td>75.20</td>\n",
       "      <td>11.41</td>\n",
       "      <td></td>\n",
       "    </tr>\n",
       "    <tr>\n",
       "      <th>4</th>\n",
       "      <td>Santarém</td>\n",
       "      <td>38</td>\n",
       "      <td>BR</td>\n",
       "      <td>1601646845</td>\n",
       "      <td>66</td>\n",
       "      <td>-2.44</td>\n",
       "      <td>-54.71</td>\n",
       "      <td>86.00</td>\n",
       "      <td>6.93</td>\n",
       "      <td></td>\n",
       "    </tr>\n",
       "  </tbody>\n",
       "</table>\n",
       "</div>"
      ],
      "text/plain": [
       "           City  Cloudiness Country        Date  Humidity    Lat    Lng  \\\n",
       "0    Nouadhibou           0      MR  1601646827        43  20.93 -17.03   \n",
       "1      Kinshasa          40      CD  1601646832        49  -4.32  15.32   \n",
       "2        Castro           1      BR  1601646836        29 -24.79 -50.01   \n",
       "3  Ponta do Sol          40      PT  1601646837        57  32.67 -17.10   \n",
       "4      Santarém          38      BR  1601646845        66  -2.44 -54.71   \n",
       "\n",
       "   Max Temp  Wind Speed Hotel Name  \n",
       "0     87.80       26.40             \n",
       "1     89.60        4.70             \n",
       "2     89.91       12.46             \n",
       "3     75.20       11.41             \n",
       "4     86.00        6.93             "
      ]
     },
     "execution_count": 111,
     "metadata": {},
     "output_type": "execute_result"
    }
   ],
   "source": [
    "hotel_df.head(5)"
   ]
  },
  {
   "cell_type": "code",
   "execution_count": 114,
   "metadata": {
    "ExecuteTime": {
     "end_time": "2020-10-04T13:41:02.576897Z",
     "start_time": "2020-10-04T13:40:47.462601Z"
    },
    "scrolled": true
   },
   "outputs": [
    {
     "name": "stdout",
     "output_type": "stream",
     "text": [
      "Checking hotel 0 at 20.93,-17.03\n",
      "Checking hotel 1 at -4.32,15.32\n",
      "Checking hotel 2 at -24.79,-50.01\n",
      "Checking hotel 3 at 32.67,-17.1\n",
      "Checking hotel 4 at -2.44,-54.71\n",
      "Checking hotel 5 at 36.96,45.39\n",
      "Checking hotel 6 at -22.97,-42.03\n",
      "Checking hotel 7 at -8.01,-34.86\n",
      "Checking hotel 8 at -21.64,-41.05\n",
      "Checking hotel 9 at 37.38,55.49\n",
      "Checking hotel 10 at 22.57,59.53\n",
      "Checking hotel 11 at -20.19,32.62\n",
      "Checking hotel 12 at 31.61,34.76\n",
      "Checking hotel 13 at 37.27,28.22\n",
      "Checking hotel 14 at 18.39,42.45\n",
      "Checking hotel 15 at -20.78,117.13\n",
      "Checking hotel 16 at 37.84,29.07\n",
      "Checking hotel 17 at -20.32,118.57\n",
      "Checking hotel 18 at 31.35,27.25\n",
      "Checking hotel 19 at 9.61,6.56\n",
      "Checking hotel 20 at -25.17,45.05\n",
      "Missing field/result... skipping\n",
      "Checking hotel 21 at 36.75,24.43\n",
      "Checking hotel 22 at 43.39,20.75\n",
      "Checking hotel 23 at 0.05,37.66\n",
      "Checking hotel 24 at 11.47,49.87\n",
      "Checking hotel 25 at 23.5,73.5\n",
      "Checking hotel 26 at 35.49,23.66\n",
      "Checking hotel 27 at 26.12,127.67\n",
      "Checking hotel 28 at -5.2,-35.46\n",
      "Checking hotel 29 at -17.71,-39.25\n",
      "Checking hotel 30 at 35.3,37.18\n",
      "Checking hotel 31 at -32.5,137.77\n",
      "Checking hotel 32 at -0.87,14.82\n",
      "Checking hotel 33 at 26.8,82.72\n",
      "Checking hotel 34 at 16.89,-24.98\n",
      "Checking hotel 35 at -15.25,-68.17\n",
      "Missing field/result... skipping\n",
      "Checking hotel 36 at 36.55,61.05\n",
      "Checking hotel 37 at -20.33,-40.29\n",
      "-------------------------\n",
      "Processing Completed\n",
      "2 locations skipped\n",
      "-------------------------\n"
     ]
    }
   ],
   "source": [
    "ecount = 0\n",
    "for index, row in hotel_df.iterrows():\n",
    "    lat = row['Lat']\n",
    "    lng = row['Lng']\n",
    "    \n",
    "    \n",
    "    params = {\n",
    "        \"radius\": 5000,\n",
    "        \"types\": \"hotel\",\n",
    "        \"location\":f\"{lat},{lng}\",\n",
    "        \"key\": g_key\n",
    "    }\n",
    "    print(f\"Checking hotel {index} at {lat},{lng}\")\n",
    "    base_url = \"https://maps.googleapis.com/maps/api/place/nearbysearch/json\"\n",
    "    \n",
    "    name_address = requests.get(base_url, params=params)\n",
    "    name_address = name_address.json()\n",
    "    \n",
    "    try:\n",
    "        hotel_df.loc[index, \"Hotel Name\"] = name_address['results'][1]['name']\n",
    "    except (KeyError, IndexError):\n",
    "        print(\"Missing field/result... skipping\")\n",
    "        ecount += 1\n",
    "print('-' * 25)\n",
    "print('Processing Completed')\n",
    "print(f'{ecount} locations skipped')\n",
    "print('-' * 25)"
   ]
  },
  {
   "cell_type": "code",
   "execution_count": 113,
   "metadata": {
    "ExecuteTime": {
     "end_time": "2020-10-04T12:49:14.107613Z",
     "start_time": "2020-10-04T12:49:14.089614Z"
    }
   },
   "outputs": [
    {
     "data": {
      "text/html": [
       "<div>\n",
       "<style scoped>\n",
       "    .dataframe tbody tr th:only-of-type {\n",
       "        vertical-align: middle;\n",
       "    }\n",
       "\n",
       "    .dataframe tbody tr th {\n",
       "        vertical-align: top;\n",
       "    }\n",
       "\n",
       "    .dataframe thead th {\n",
       "        text-align: right;\n",
       "    }\n",
       "</style>\n",
       "<table border=\"1\" class=\"dataframe\">\n",
       "  <thead>\n",
       "    <tr style=\"text-align: right;\">\n",
       "      <th></th>\n",
       "      <th>City</th>\n",
       "      <th>Cloudiness</th>\n",
       "      <th>Country</th>\n",
       "      <th>Date</th>\n",
       "      <th>Humidity</th>\n",
       "      <th>Lat</th>\n",
       "      <th>Lng</th>\n",
       "      <th>Max Temp</th>\n",
       "      <th>Wind Speed</th>\n",
       "      <th>Hotel Name</th>\n",
       "    </tr>\n",
       "  </thead>\n",
       "  <tbody>\n",
       "    <tr>\n",
       "      <th>0</th>\n",
       "      <td>Nouadhibou</td>\n",
       "      <td>0</td>\n",
       "      <td>MR</td>\n",
       "      <td>1601646827</td>\n",
       "      <td>43</td>\n",
       "      <td>20.93</td>\n",
       "      <td>-17.03</td>\n",
       "      <td>87.80</td>\n",
       "      <td>26.40</td>\n",
       "      <td>El Medina</td>\n",
       "    </tr>\n",
       "    <tr>\n",
       "      <th>1</th>\n",
       "      <td>Kinshasa</td>\n",
       "      <td>40</td>\n",
       "      <td>CD</td>\n",
       "      <td>1601646832</td>\n",
       "      <td>49</td>\n",
       "      <td>-4.32</td>\n",
       "      <td>15.32</td>\n",
       "      <td>89.60</td>\n",
       "      <td>4.70</td>\n",
       "      <td>Flat Hotel Alhdeef</td>\n",
       "    </tr>\n",
       "    <tr>\n",
       "      <th>2</th>\n",
       "      <td>Castro</td>\n",
       "      <td>1</td>\n",
       "      <td>BR</td>\n",
       "      <td>1601646836</td>\n",
       "      <td>29</td>\n",
       "      <td>-24.79</td>\n",
       "      <td>-50.01</td>\n",
       "      <td>89.91</td>\n",
       "      <td>12.46</td>\n",
       "      <td>Lojas Colombo</td>\n",
       "    </tr>\n",
       "    <tr>\n",
       "      <th>3</th>\n",
       "      <td>Ponta do Sol</td>\n",
       "      <td>40</td>\n",
       "      <td>PT</td>\n",
       "      <td>1601646837</td>\n",
       "      <td>57</td>\n",
       "      <td>32.67</td>\n",
       "      <td>-17.10</td>\n",
       "      <td>75.20</td>\n",
       "      <td>11.41</td>\n",
       "      <td>Hotel do Campo</td>\n",
       "    </tr>\n",
       "    <tr>\n",
       "      <th>4</th>\n",
       "      <td>Santarém</td>\n",
       "      <td>38</td>\n",
       "      <td>BR</td>\n",
       "      <td>1601646845</td>\n",
       "      <td>66</td>\n",
       "      <td>-2.44</td>\n",
       "      <td>-54.71</td>\n",
       "      <td>86.00</td>\n",
       "      <td>6.93</td>\n",
       "      <td>Hotel Imperador</td>\n",
       "    </tr>\n",
       "  </tbody>\n",
       "</table>\n",
       "</div>"
      ],
      "text/plain": [
       "           City  Cloudiness Country        Date  Humidity    Lat    Lng  \\\n",
       "0    Nouadhibou           0      MR  1601646827        43  20.93 -17.03   \n",
       "1      Kinshasa          40      CD  1601646832        49  -4.32  15.32   \n",
       "2        Castro           1      BR  1601646836        29 -24.79 -50.01   \n",
       "3  Ponta do Sol          40      PT  1601646837        57  32.67 -17.10   \n",
       "4      Santarém          38      BR  1601646845        66  -2.44 -54.71   \n",
       "\n",
       "   Max Temp  Wind Speed          Hotel Name  \n",
       "0     87.80       26.40           El Medina  \n",
       "1     89.60        4.70  Flat Hotel Alhdeef  \n",
       "2     89.91       12.46       Lojas Colombo  \n",
       "3     75.20       11.41      Hotel do Campo  \n",
       "4     86.00        6.93     Hotel Imperador  "
      ]
     },
     "execution_count": 113,
     "metadata": {},
     "output_type": "execute_result"
    }
   ],
   "source": [
    "hotel_df.head(5)"
   ]
  },
  {
   "cell_type": "code",
   "execution_count": null,
   "metadata": {},
   "outputs": [],
   "source": []
  },
  {
   "cell_type": "code",
   "execution_count": null,
   "metadata": {},
   "outputs": [],
   "source": []
  },
  {
   "cell_type": "code",
   "execution_count": null,
   "metadata": {},
   "outputs": [],
   "source": []
  },
  {
   "cell_type": "code",
   "execution_count": null,
   "metadata": {},
   "outputs": [],
   "source": []
  },
  {
   "cell_type": "code",
   "execution_count": 102,
   "metadata": {
    "ExecuteTime": {
     "end_time": "2020-10-04T04:55:45.564850Z",
     "start_time": "2020-10-04T04:55:45.545343Z"
    }
   },
   "outputs": [],
   "source": [
    "# NOTE: Do not change any of the code in this cell\n",
    "\n",
    "# Using the template add the hotel marks to the heatmap\n",
    "info_box_template = \"\"\"\n",
    "<dl>\n",
    "<dt>Name</dt><dd>{Hotel Name}</dd>\n",
    "<dt>City</dt><dd>{City}</dd>\n",
    "<dt>Country</dt><dd>{Country}</dd>\n",
    "</dl>\n",
    "\"\"\"\n",
    "# Store the DataFrame Row\n",
    "# NOTE: be sure to update with your DataFrame name\n",
    "hotel_info = [info_box_template.format(**row) for index, row in hotel_df.iterrows()]\n",
    "locations = hotel_df[[\"Lat\", \"Lng\"]]"
   ]
  },
  {
   "cell_type": "code",
   "execution_count": null,
   "metadata": {},
   "outputs": [],
   "source": []
  },
  {
   "cell_type": "code",
   "execution_count": null,
   "metadata": {},
   "outputs": [],
   "source": []
  },
  {
   "cell_type": "code",
   "execution_count": 118,
   "metadata": {
    "ExecuteTime": {
     "end_time": "2020-10-04T14:20:11.704356Z",
     "start_time": "2020-10-04T14:20:11.601359Z"
    }
   },
   "outputs": [
    {
     "data": {
      "application/vnd.jupyter.widget-view+json": {
       "model_id": "21e7b955f1564ac4b99a125f93b1eba5",
       "version_major": 2,
       "version_minor": 0
      },
      "text/plain": [
       "Figure(layout=FigureLayout(height='420px'))"
      ]
     },
     "metadata": {},
     "output_type": "display_data"
    }
   ],
   "source": [
    "# Add marker layer ontop of heat map\n",
    "\n",
    "locations = hotel_df[['Lat','Lng']]\n",
    "weights = hotel_df['Humidity']\n",
    "fig = gmaps.figure()\n",
    "fig.add_layer(gmaps.heatmap_layer(locations, weights=weights))\n",
    "fig.add_layer(gmaps.marker_layer(locations, info_box_content = hotel_info))\n",
    "fig\n",
    "# Display Map"
   ]
  },
  {
   "cell_type": "code",
   "execution_count": null,
   "metadata": {},
   "outputs": [],
   "source": []
  }
 ],
 "metadata": {
  "kernelspec": {
   "display_name": "Python 3",
   "language": "python",
   "name": "python3"
  },
  "language_info": {
   "codemirror_mode": {
    "name": "ipython",
    "version": 3
   },
   "file_extension": ".py",
   "mimetype": "text/x-python",
   "name": "python",
   "nbconvert_exporter": "python",
   "pygments_lexer": "ipython3",
   "version": "3.7.7"
  },
  "latex_envs": {
   "LaTeX_envs_menu_present": true,
   "autoclose": false,
   "autocomplete": true,
   "bibliofile": "biblio.bib",
   "cite_by": "apalike",
   "current_citInitial": 1,
   "eqLabelWithNumbers": true,
   "eqNumInitial": 1,
   "hotkeys": {
    "equation": "Ctrl-E",
    "itemize": "Ctrl-I"
   },
   "labels_anchors": false,
   "latex_user_defs": false,
   "report_style_numbering": false,
   "user_envs_cfg": false
  },
  "toc": {
   "base_numbering": 1,
   "nav_menu": {},
   "number_sections": true,
   "sideBar": true,
   "skip_h1_title": false,
   "title_cell": "Table of Contents",
   "title_sidebar": "Contents",
   "toc_cell": false,
   "toc_position": {},
   "toc_section_display": true,
   "toc_window_display": true
  },
  "varInspector": {
   "cols": {
    "lenName": 16,
    "lenType": 16,
    "lenVar": 40
   },
   "kernels_config": {
    "python": {
     "delete_cmd_postfix": "",
     "delete_cmd_prefix": "del ",
     "library": "var_list.py",
     "varRefreshCmd": "print(var_dic_list())"
    },
    "r": {
     "delete_cmd_postfix": ") ",
     "delete_cmd_prefix": "rm(",
     "library": "var_list.r",
     "varRefreshCmd": "cat(var_dic_list()) "
    }
   },
   "types_to_exclude": [
    "module",
    "function",
    "builtin_function_or_method",
    "instance",
    "_Feature"
   ],
   "window_display": false
  }
 },
 "nbformat": 4,
 "nbformat_minor": 2
}
