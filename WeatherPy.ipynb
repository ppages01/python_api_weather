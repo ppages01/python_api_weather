{
 "cells": [
  {
   "cell_type": "markdown",
   "metadata": {},
   "source": [
    "# WeatherPy\n",
    "----\n",
    "\n",
    "#### Note\n",
    "* Instructions have been included for each segment. You do not have to follow them exactly, but they are included to help you think through the steps."
   ]
  },
  {
   "cell_type": "code",
   "execution_count": 24,
   "metadata": {
    "ExecuteTime": {
     "end_time": "2020-09-30T02:01:49.209213Z",
     "start_time": "2020-09-30T02:01:48.847080Z"
    },
    "scrolled": true
   },
   "outputs": [],
   "source": [
    "# Dependencies and Setup\n",
    "import matplotlib.pyplot as plt\n",
    "import seaborn as sns\n",
    "import pandas as pd\n",
    "import numpy as np\n",
    "import requests\n",
    "import time\n",
    "from scipy.stats import linregress\n",
    "import os\n",
    "\n",
    "%matplotlib inline \n",
    "\n",
    "# Import API key, .env\n",
    "from decouple import config\n",
    "api_key = config('weather_api_key')\n",
    "\n",
    "# Incorporated citipy to determine city based on latitude and longitude\n",
    "from citipy import citipy\n",
    "\n",
    "# Output File (CSV)\n",
    "output_data_file = \"output_data/cities.csv\"\n",
    "\n",
    "# Range of latitudes and longitudes\n",
    "lat_range = (-90, 90)\n",
    "lng_range = (-180, 180)"
   ]
  },
  {
   "cell_type": "markdown",
   "metadata": {},
   "source": [
    "## Generate Cities List"
   ]
  },
  {
   "cell_type": "code",
   "execution_count": 6,
   "metadata": {
    "ExecuteTime": {
     "end_time": "2020-09-29T19:58:59.802897Z",
     "start_time": "2020-09-29T19:58:58.233296Z"
    }
   },
   "outputs": [
    {
     "data": {
      "text/plain": [
       "617"
      ]
     },
     "execution_count": 6,
     "metadata": {},
     "output_type": "execute_result"
    }
   ],
   "source": [
    "# List for holding lat_lngs and cities\n",
    "lat_lngs = []\n",
    "cities = []\n",
    "\n",
    "# Create a set of random lat and lng combinations\n",
    "lats = np.random.uniform(low=-90.000, high=90.000, size=1500)\n",
    "lngs = np.random.uniform(low=-180.000, high=180.000, size=1500)\n",
    "lat_lngs = zip(lats, lngs)\n",
    "\n",
    "# Identify nearest city for each lat, lng combination\n",
    "for lat_lng in lat_lngs:\n",
    "    city = citipy.nearest_city(lat_lng[0], lat_lng[1]).city_name\n",
    "    \n",
    "    # If the city is unique, then add it to a our cities list\n",
    "    if city not in cities:\n",
    "        cities.append(city)\n",
    "\n",
    "# Print the city count to confirm sufficient count\n",
    "len(cities)"
   ]
  },
  {
   "cell_type": "markdown",
   "metadata": {},
   "source": [
    "### Perform API Calls\n",
    "* Perform a weather check on each city using a series of successive API calls.\n",
    "* Include a print log of each city as it'sbeing processed (with the city number and city name).\n"
   ]
  },
  {
   "cell_type": "code",
   "execution_count": 7,
   "metadata": {
    "ExecuteTime": {
     "end_time": "2020-09-29T19:59:03.755150Z",
     "start_time": "2020-09-29T19:59:03.752487Z"
    }
   },
   "outputs": [],
   "source": [
    "# URL for GET requests to retrieve weather data\n",
    "url = \"http://api.openweathermap.org/data/2.5/weather?q=\""
   ]
  },
  {
   "cell_type": "code",
   "execution_count": 8,
   "metadata": {
    "ExecuteTime": {
     "end_time": "2020-09-29T19:59:04.019780Z",
     "start_time": "2020-09-29T19:59:04.016452Z"
    }
   },
   "outputs": [],
   "source": [
    "response_json = []"
   ]
  },
  {
   "cell_type": "code",
   "execution_count": 9,
   "metadata": {
    "ExecuteTime": {
     "end_time": "2020-09-29T19:59:04.426203Z",
     "start_time": "2020-09-29T19:59:04.421542Z"
    }
   },
   "outputs": [],
   "source": [
    "city = []\n",
    "cloudiness = []\n",
    "country = []\n",
    "date = []\n",
    "humidity = []\n",
    "lat = []\n",
    "lng = []\n",
    "max_temp = []\n",
    "wind_speed = []\n",
    "ecount = 0\n",
    "count = 0\n",
    "sets = 0"
   ]
  },
  {
   "cell_type": "code",
   "execution_count": 10,
   "metadata": {
    "ExecuteTime": {
     "end_time": "2020-09-29T20:01:57.608269Z",
     "start_time": "2020-09-29T19:59:08.321762Z"
    }
   },
   "outputs": [
    {
     "name": "stdout",
     "output_type": "stream",
     "text": [
      "Beginning Data Retrieval\n",
      "-----------------------------\n",
      "Making request: 0, set 0 for ID: gizo\n",
      "Making request: 1, set 0 for ID: severo-kurilsk\n",
      "Making request: 2, set 0 for ID: adrar\n",
      "Making request: 3, set 0 for ID: shagonar\n",
      "Making request: 4, set 0 for ID: port hardy\n",
      "Making request: 5, set 0 for ID: bah\n",
      "Making request: 6, set 0 for ID: avarua\n",
      "Making request: 7, set 0 for ID: carnarvon\n",
      "Making request: 8, set 0 for ID: bluff\n",
      "Making request: 9, set 0 for ID: vaini\n",
      "Making request: 10, set 0 for ID: yar-sale\n",
      "Making request: 11, set 0 for ID: agirish\n",
      "Making request: 12, set 0 for ID: castro\n",
      "Making request: 13, set 0 for ID: hobart\n",
      "Making request: 14, set 0 for ID: sedelnikovo\n",
      "Making request: 15, set 0 for ID: sao filipe\n",
      "Making request: 16, set 0 for ID: tiksi\n",
      "Making request: 17, set 0 for ID: juneau\n",
      "Making request: 18, set 0 for ID: busselton\n",
      "Making request: 19, set 0 for ID: quatre cocos\n",
      "Making request: 20, set 0 for ID: belushya guba\n",
      "Making request: 21, set 0 for ID: ushuaia\n",
      "Making request: 22, set 0 for ID: mahebourg\n",
      "Making request: 23, set 0 for ID: ponta do sol\n",
      "Making request: 24, set 0 for ID: asfi\n",
      "Making request: 25, set 0 for ID: tongliao\n",
      "Making request: 26, set 0 for ID: mar del plata\n",
      "Making request: 27, set 0 for ID: provideniya\n",
      "Making request: 28, set 0 for ID: iguape\n",
      "Making request: 29, set 0 for ID: saskylakh\n",
      "Making request: 30, set 0 for ID: guerrero negro\n",
      "Making request: 31, set 0 for ID: bredasdorp\n",
      "Making request: 32, set 0 for ID: santa isabel\n",
      "Making request: 33, set 0 for ID: deniliquin\n",
      "Making request: 34, set 0 for ID: asau\n",
      "Making request: 35, set 0 for ID: barrow\n",
      "Making request: 36, set 0 for ID: ostrovnoy\n",
      "Making request: 37, set 0 for ID: port alfred\n",
      "Making request: 38, set 0 for ID: sint michiel\n",
      "Making request: 39, set 0 for ID: nanortalik\n",
      "Making request: 40, set 0 for ID: kodinsk\n",
      "Making request: 41, set 0 for ID: vila franca do campo\n",
      "Making request: 42, set 0 for ID: lebu\n",
      "Making request: 43, set 0 for ID: albany\n",
      "Making request: 44, set 0 for ID: guanagazapa\n",
      "Making request: 45, set 0 for ID: antalaha\n",
      "Making request: 46, set 0 for ID: hirtshals\n",
      "Making request: 47, set 0 for ID: rikitea\n",
      "Making request: 48, set 0 for ID: mujiayingzi\n",
      "Making request: 49, set 0 for ID: jaru\n",
      "Making request: 50, set 0 for ID: candido de abreu\n",
      "Making request: 51, set 0 for ID: punta arenas\n",
      "Making request: 52, set 0 for ID: richards bay\n",
      "Making request: 53, set 0 for ID: ilulissat\n",
      "Making request: 54, set 0 for ID: omboue\n",
      "Making request: 55, set 0 for ID: igrim\n",
      "Making request: 56, set 0 for ID: kampong cham\n",
      "Making request: 57, set 0 for ID: tahoua\n",
      "Making request: 58, set 0 for ID: mataura\n",
      "Hold for API Limit - 60 seconds\n",
      "Making request: 59, set 1 for ID: hofn\n",
      "Making request: 60, set 1 for ID: cape town\n",
      "Making request: 61, set 1 for ID: dikson\n",
      "Making request: 62, set 1 for ID: yellowknife\n",
      "Making request: 63, set 1 for ID: sicamous\n",
      "Making request: 64, set 1 for ID: nikolskoye\n",
      "Making request: 65, set 1 for ID: srednekolymsk\n",
      "Making request: 66, set 1 for ID: ballina\n",
      "Making request: 67, set 1 for ID: cabo san lucas\n",
      "Making request: 68, set 1 for ID: chokurdakh\n",
      "Making request: 69, set 1 for ID: vila velha\n",
      "Making request: 70, set 1 for ID: clyde river\n",
      "Making request: 71, set 1 for ID: samusu\n",
      "Making request: 72, set 1 for ID: ocos\n",
      "Making request: 73, set 1 for ID: talnakh\n",
      "Making request: 74, set 1 for ID: kailua\n",
      "Making request: 75, set 1 for ID: hutchinson\n",
      "Making request: 76, set 1 for ID: qaanaaq\n",
      "Making request: 77, set 1 for ID: huarmey\n",
      "Making request: 78, set 1 for ID: labuhan\n",
      "Making request: 79, set 1 for ID: touros\n",
      "Making request: 80, set 1 for ID: tuatapere\n",
      "Making request: 81, set 1 for ID: nizhneyansk\n",
      "Making request: 82, set 1 for ID: broken hill\n",
      "Making request: 83, set 1 for ID: jizan\n",
      "Making request: 84, set 1 for ID: paamiut\n",
      "Making request: 85, set 1 for ID: mwene-ditu\n",
      "Making request: 86, set 1 for ID: safaqis\n",
      "Making request: 87, set 1 for ID: hilo\n",
      "Making request: 88, set 1 for ID: flinders\n",
      "Making request: 89, set 1 for ID: grand river south east\n",
      "Making request: 90, set 1 for ID: bantul\n",
      "Making request: 91, set 1 for ID: vaitupu\n",
      "Making request: 92, set 1 for ID: prince rupert\n",
      "Making request: 93, set 1 for ID: murgab\n",
      "Making request: 94, set 1 for ID: lokoja\n",
      "Making request: 95, set 1 for ID: caucaia\n",
      "Making request: 96, set 1 for ID: rawson\n",
      "Making request: 97, set 1 for ID: butaritari\n",
      "Making request: 98, set 1 for ID: chor\n",
      "Making request: 99, set 1 for ID: solnechnyy\n",
      "Making request: 100, set 1 for ID: bowen\n",
      "Making request: 101, set 1 for ID: hermanus\n",
      "Making request: 102, set 1 for ID: bethel\n",
      "Making request: 103, set 1 for ID: kangaatsiaq\n",
      "Making request: 104, set 1 for ID: barentsburg\n",
      "Making request: 105, set 1 for ID: bontang\n",
      "Making request: 106, set 1 for ID: cherskiy\n",
      "Making request: 107, set 1 for ID: amderma\n",
      "Making request: 108, set 1 for ID: peniche\n",
      "Making request: 109, set 1 for ID: ambodifototra\n",
      "Making request: 110, set 1 for ID: port elizabeth\n",
      "Making request: 111, set 1 for ID: chuy\n",
      "Making request: 112, set 1 for ID: sur\n",
      "Making request: 113, set 1 for ID: tuktoyaktuk\n",
      "Making request: 114, set 1 for ID: darab\n",
      "Making request: 115, set 1 for ID: puerto ayora\n",
      "Making request: 116, set 1 for ID: buriti\n",
      "Hold for API Limit - 60 seconds\n",
      "Making request: 117, set 2 for ID: ixtapa\n",
      "Making request: 118, set 2 for ID: shimoda\n",
      "Making request: 119, set 2 for ID: stokmarknes\n",
      "Making request: 120, set 2 for ID: hearst\n",
      "Making request: 121, set 2 for ID: roald\n",
      "Making request: 122, set 2 for ID: vaitape\n",
      "Making request: 123, set 2 for ID: saint-philippe\n",
      "Making request: 124, set 2 for ID: yanam\n",
      "Making request: 125, set 2 for ID: kaitangata\n",
      "Making request: 126, set 2 for ID: kavaratti\n",
      "Making request: 127, set 2 for ID: georgetown\n",
      "Making request: 128, set 2 for ID: tias\n",
      "Making request: 129, set 2 for ID: gornyak\n",
      "Making request: 130, set 2 for ID: opuwo\n",
      "Making request: 131, set 2 for ID: jamestown\n",
      "Making request: 132, set 2 for ID: batocina\n",
      "Making request: 133, set 2 for ID: tambopata\n",
      "Making request: 134, set 2 for ID: oriximina\n",
      "Making request: 135, set 2 for ID: new norfolk\n",
      "Making request: 136, set 2 for ID: coquimbo\n",
      "Making request: 137, set 2 for ID: kulhudhuffushi\n",
      "Making request: 138, set 2 for ID: vanimo\n",
      "Making request: 139, set 2 for ID: antofagasta\n",
      "Making request: 140, set 2 for ID: rio gallegos\n",
      "Making request: 141, set 2 for ID: norman wells\n",
      "Making request: 142, set 2 for ID: kodiak\n",
      "Making request: 143, set 2 for ID: noumea\n",
      "Making request: 144, set 2 for ID: long beach\n",
      "Making request: 145, set 2 for ID: lubao\n",
      "Making request: 146, set 2 for ID: arraial do cabo\n",
      "Making request: 147, set 2 for ID: gambo\n",
      "Making request: 148, set 2 for ID: bandarbeyla\n",
      "Making request: 149, set 2 for ID: sola\n",
      "Making request: 150, set 2 for ID: masvingo\n",
      "Making request: 151, set 2 for ID: alot\n",
      "Making request: 152, set 2 for ID: wettingen\n",
      "Making request: 153, set 2 for ID: mao\n",
      "Making request: 154, set 2 for ID: isfana\n",
      "Making request: 155, set 2 for ID: badarwas\n",
      "Making request: 156, set 2 for ID: mount gambier\n",
      "Making request: 157, set 2 for ID: hithadhoo\n",
      "Making request: 158, set 2 for ID: bay-khaak\n",
      "Making request: 159, set 2 for ID: hamilton\n",
      "Making request: 160, set 2 for ID: avera\n",
      "Making request: 161, set 2 for ID: leningradskiy\n",
      "Making request: 162, set 2 for ID: elko\n",
      "Making request: 163, set 2 for ID: taolanaro\n",
      "Making request: 164, set 2 for ID: labytnangi\n",
      "Making request: 165, set 2 for ID: bengkulu\n",
      "Making request: 166, set 2 for ID: ambon\n",
      "Making request: 167, set 2 for ID: attawapiskat\n",
      "Making request: 168, set 2 for ID: kushmurun\n",
      "Making request: 169, set 2 for ID: iraray\n",
      "Making request: 170, set 2 for ID: torbay\n",
      "Making request: 171, set 2 for ID: kouango\n",
      "Making request: 172, set 2 for ID: lahij\n",
      "Making request: 173, set 2 for ID: maceio\n",
      "Making request: 174, set 2 for ID: tsihombe\n",
      "Hold for API Limit - 60 seconds\n",
      "Making request: 175, set 3 for ID: bubaque\n",
      "Making request: 176, set 3 for ID: kapaa\n",
      "Making request: 177, set 3 for ID: thompson\n",
      "Making request: 178, set 3 for ID: upernavik\n",
      "Making request: 179, set 3 for ID: turukhansk\n",
      "Making request: 180, set 3 for ID: ugoofaaru\n",
      "Making request: 181, set 3 for ID: galiwinku\n",
      "Making request: 182, set 3 for ID: conde\n",
      "Making request: 183, set 3 for ID: narsaq\n",
      "Making request: 184, set 3 for ID: leopold\n"
     ]
    },
    {
     "name": "stdout",
     "output_type": "stream",
     "text": [
      "Making request: 185, set 3 for ID: reconquista\n",
      "Making request: 186, set 3 for ID: khani\n",
      "Making request: 187, set 3 for ID: zhigansk\n",
      "Making request: 188, set 3 for ID: lompoc\n",
      "Making request: 189, set 3 for ID: taoudenni\n",
      "Making request: 190, set 3 for ID: bambous virieux\n",
      "Making request: 191, set 3 for ID: manta\n",
      "Making request: 192, set 3 for ID: kuche\n",
      "Making request: 193, set 3 for ID: tura\n",
      "Making request: 194, set 3 for ID: fara in sabina\n",
      "Making request: 195, set 3 for ID: necochea\n",
      "Making request: 196, set 3 for ID: sumbawa\n",
      "Making request: 197, set 3 for ID: kawardha\n",
      "Making request: 198, set 3 for ID: hokitika\n",
      "Making request: 199, set 3 for ID: khatanga\n",
      "Making request: 200, set 3 for ID: rafai\n",
      "Making request: 201, set 3 for ID: port lincoln\n",
      "Making request: 202, set 3 for ID: atambua\n",
      "Making request: 203, set 3 for ID: pangkalanbuun\n",
      "Making request: 204, set 3 for ID: novyy urengoy\n",
      "Making request: 205, set 3 for ID: umm durman\n",
      "Making request: 206, set 3 for ID: nishihara\n",
      "Making request: 207, set 3 for ID: karpathos\n",
      "Making request: 208, set 3 for ID: sentyabrskiy\n",
      "Making request: 209, set 3 for ID: poitiers\n",
      "Making request: 210, set 3 for ID: san jeronimo\n",
      "Making request: 211, set 3 for ID: kommunisticheskiy\n",
      "Making request: 212, set 3 for ID: vardo\n",
      "Making request: 213, set 3 for ID: la ronge\n",
      "Making request: 214, set 3 for ID: east london\n",
      "Making request: 215, set 3 for ID: inuvik\n",
      "Making request: 216, set 3 for ID: zambezi\n",
      "Making request: 217, set 3 for ID: muros\n",
      "Making request: 218, set 3 for ID: aflu\n",
      "Making request: 219, set 3 for ID: kundiawa\n",
      "Making request: 220, set 3 for ID: katsuura\n",
      "Making request: 221, set 3 for ID: mount isa\n",
      "Making request: 222, set 3 for ID: puerto escondido\n",
      "Making request: 223, set 3 for ID: isangel\n",
      "Making request: 224, set 3 for ID: hami\n",
      "Making request: 225, set 3 for ID: iqaluit\n",
      "Making request: 226, set 3 for ID: bobon\n",
      "Making request: 227, set 3 for ID: margate\n",
      "Making request: 228, set 3 for ID: aban\n",
      "Making request: 229, set 3 for ID: riyadh\n",
      "Making request: 230, set 3 for ID: san-pedro\n",
      "Making request: 231, set 3 for ID: mwinilunga\n",
      "Making request: 232, set 3 for ID: falkenberg\n",
      "Hold for API Limit - 60 seconds\n",
      "Making request: 233, set 4 for ID: gigmoto\n",
      "Making request: 234, set 4 for ID: george\n",
      "Making request: 235, set 4 for ID: san patricio\n",
      "Making request: 236, set 4 for ID: kabompo\n",
      "Making request: 237, set 4 for ID: greenville\n",
      "Making request: 238, set 4 for ID: babanusah\n",
      "Making request: 239, set 4 for ID: renqiu\n",
      "Making request: 240, set 4 for ID: florianopolis\n",
      "Making request: 241, set 4 for ID: tomatlan\n",
      "Making request: 242, set 4 for ID: amudat\n",
      "Making request: 243, set 4 for ID: oktyabrskiy\n",
      "Making request: 244, set 4 for ID: piterka\n",
      "Making request: 245, set 4 for ID: codrington\n",
      "Making request: 246, set 4 for ID: atuona\n",
      "Making request: 247, set 4 for ID: volodarskiy\n",
      "Making request: 248, set 4 for ID: hasaki\n",
      "Making request: 249, set 4 for ID: buraydah\n",
      "Making request: 250, set 4 for ID: kununurra\n",
      "Making request: 251, set 4 for ID: umm kaddadah\n",
      "Making request: 252, set 4 for ID: longyearbyen\n",
      "Making request: 253, set 4 for ID: deputatskiy\n",
      "Making request: 254, set 4 for ID: kangaba\n",
      "Making request: 255, set 4 for ID: dunedin\n",
      "Making request: 256, set 4 for ID: olavarria\n",
      "Making request: 257, set 4 for ID: tasiilaq\n",
      "Making request: 258, set 4 for ID: hovd\n",
      "Making request: 259, set 4 for ID: southbridge\n",
      "Making request: 260, set 4 for ID: curuca\n",
      "Making request: 261, set 4 for ID: teshie\n",
      "Making request: 262, set 4 for ID: bonavista\n",
      "Making request: 263, set 4 for ID: ginir\n",
      "Making request: 264, set 4 for ID: namibe\n",
      "Making request: 265, set 4 for ID: saint george\n",
      "Making request: 266, set 4 for ID: honiara\n",
      "Making request: 267, set 4 for ID: guanica\n",
      "Making request: 268, set 4 for ID: pizarro\n",
      "Making request: 269, set 4 for ID: mastic beach\n",
      "Making request: 270, set 4 for ID: weiser\n",
      "Making request: 271, set 4 for ID: champerico\n",
      "Making request: 272, set 4 for ID: rincon\n",
      "Making request: 273, set 4 for ID: vestmannaeyjar\n",
      "Making request: 274, set 4 for ID: luang prabang\n",
      "Making request: 275, set 4 for ID: kamenka\n",
      "Making request: 276, set 4 for ID: jimma\n",
      "Making request: 277, set 4 for ID: sumbawanga\n",
      "Making request: 278, set 4 for ID: lorengau\n",
      "Making request: 279, set 4 for ID: livny\n",
      "Making request: 280, set 4 for ID: esperance\n",
      "Making request: 281, set 4 for ID: miramar\n",
      "Making request: 282, set 4 for ID: ancud\n",
      "Making request: 283, set 4 for ID: stromness\n",
      "Making request: 284, set 4 for ID: egvekinot\n",
      "Making request: 285, set 4 for ID: victoria\n",
      "Making request: 286, set 4 for ID: lichinga\n",
      "Making request: 287, set 4 for ID: amlame\n",
      "Making request: 288, set 4 for ID: batagay\n",
      "Making request: 289, set 4 for ID: pudem\n",
      "Making request: 290, set 4 for ID: kushima\n",
      "Hold for API Limit - 60 seconds\n",
      "Making request: 291, set 5 for ID: willowmore\n",
      "Making request: 292, set 5 for ID: izumo\n",
      "Making request: 293, set 5 for ID: mys shmidta\n",
      "Making request: 294, set 5 for ID: corsicana\n",
      "Making request: 295, set 5 for ID: nguiu\n",
      "Making request: 296, set 5 for ID: alice springs\n",
      "Making request: 297, set 5 for ID: noyabrsk\n",
      "Making request: 298, set 5 for ID: laguna\n",
      "Making request: 299, set 5 for ID: yulara\n",
      "Making request: 300, set 5 for ID: saldanha\n",
      "Making request: 301, set 5 for ID: airai\n",
      "Making request: 302, set 5 for ID: sorland\n",
      "Making request: 303, set 5 for ID: kalmunai\n",
      "Making request: 304, set 5 for ID: jalu\n",
      "Making request: 305, set 5 for ID: gorontalo\n",
      "Making request: 306, set 5 for ID: tual\n",
      "Making request: 307, set 5 for ID: dingle\n",
      "Making request: 308, set 5 for ID: sabae\n",
      "Making request: 309, set 5 for ID: sangar\n",
      "Making request: 310, set 5 for ID: marzuq\n",
      "Making request: 311, set 5 for ID: biak\n",
      "Making request: 312, set 5 for ID: benguela\n",
      "Making request: 313, set 5 for ID: toliary\n",
      "Making request: 314, set 5 for ID: kon tum\n",
      "Making request: 315, set 5 for ID: kavieng\n",
      "Making request: 316, set 5 for ID: novospasskoye\n",
      "Making request: 317, set 5 for ID: warmbad\n",
      "Making request: 318, set 5 for ID: zhangye\n",
      "Making request: 319, set 5 for ID: cidreira\n",
      "Making request: 320, set 5 for ID: mogadishu\n",
      "Making request: 321, set 5 for ID: sobolevo\n",
      "Making request: 322, set 5 for ID: college\n",
      "Making request: 323, set 5 for ID: half moon bay\n",
      "Making request: 324, set 5 for ID: ribeira grande\n",
      "Making request: 325, set 5 for ID: port augusta\n",
      "Making request: 326, set 5 for ID: lata\n",
      "Making request: 327, set 5 for ID: inirida\n",
      "Making request: 328, set 5 for ID: lavrentiya\n",
      "Making request: 329, set 5 for ID: lagos\n",
      "Making request: 330, set 5 for ID: pisco\n",
      "Making request: 331, set 5 for ID: illoqqortoormiut\n",
      "Making request: 332, set 5 for ID: vryburg\n",
      "Making request: 333, set 5 for ID: kawalu\n",
      "Making request: 334, set 5 for ID: yura\n",
      "Making request: 335, set 5 for ID: krasnoselkup\n",
      "Making request: 336, set 5 for ID: chapais\n",
      "Making request: 337, set 5 for ID: surt\n",
      "Making request: 338, set 5 for ID: po\n",
      "Making request: 339, set 5 for ID: monte cristi\n",
      "Making request: 340, set 5 for ID: padilla\n",
      "Making request: 341, set 5 for ID: awjilah\n",
      "Making request: 342, set 5 for ID: fomboni\n",
      "Making request: 343, set 5 for ID: sal rei\n",
      "Making request: 344, set 5 for ID: kathmandu\n",
      "Making request: 345, set 5 for ID: kirakira\n",
      "Making request: 346, set 5 for ID: palana\n",
      "Making request: 347, set 5 for ID: viedma\n",
      "Making request: 348, set 5 for ID: kvam\n",
      "Hold for API Limit - 60 seconds\n",
      "Making request: 349, set 6 for ID: carahue\n",
      "Making request: 350, set 6 for ID: marsa matruh\n",
      "Making request: 351, set 6 for ID: devils lake\n",
      "Making request: 352, set 6 for ID: shetpe\n",
      "Making request: 353, set 6 for ID: nizwa\n",
      "Making request: 354, set 6 for ID: turka\n",
      "Making request: 355, set 6 for ID: aykhal\n",
      "Making request: 356, set 6 for ID: mukhtolovo\n",
      "Making request: 357, set 6 for ID: visnes\n",
      "Making request: 358, set 6 for ID: maragogi\n",
      "Making request: 359, set 6 for ID: vao\n",
      "Making request: 360, set 6 for ID: kamensk-uralskiy\n",
      "Making request: 361, set 6 for ID: glendive\n",
      "Making request: 362, set 6 for ID: tumannyy\n",
      "Making request: 363, set 6 for ID: teya\n",
      "Making request: 364, set 6 for ID: inverness\n",
      "Making request: 365, set 6 for ID: menongue\n",
      "Making request: 366, set 6 for ID: fredericksburg\n",
      "Making request: 367, set 6 for ID: san julian\n",
      "Making request: 368, set 6 for ID: daru\n",
      "Making request: 369, set 6 for ID: jibuti\n"
     ]
    },
    {
     "name": "stdout",
     "output_type": "stream",
     "text": [
      "Making request: 370, set 6 for ID: beringovskiy\n",
      "Making request: 371, set 6 for ID: port macquarie\n",
      "Making request: 372, set 6 for ID: fort nelson\n",
      "Making request: 373, set 6 for ID: alappuzha\n",
      "Making request: 374, set 6 for ID: saint-augustin\n",
      "Making request: 375, set 6 for ID: maralal\n",
      "Making request: 376, set 6 for ID: atasu\n",
      "Making request: 377, set 6 for ID: louisbourg\n",
      "Making request: 378, set 6 for ID: palabuhanratu\n",
      "Making request: 379, set 6 for ID: tamsweg\n",
      "Making request: 380, set 6 for ID: gusau\n",
      "Making request: 381, set 6 for ID: umzimvubu\n",
      "Making request: 382, set 6 for ID: bonaventure\n",
      "Making request: 383, set 6 for ID: harper\n",
      "Making request: 384, set 6 for ID: lopatyn\n",
      "Making request: 385, set 6 for ID: sao felix do xingu\n",
      "Making request: 386, set 6 for ID: newark\n",
      "Making request: 387, set 6 for ID: walvis bay\n",
      "Making request: 388, set 6 for ID: jian\n",
      "Making request: 389, set 6 for ID: sainte-marie\n",
      "Making request: 390, set 6 for ID: trincomalee\n",
      "Making request: 391, set 6 for ID: viransehir\n",
      "Making request: 392, set 6 for ID: moranbah\n",
      "Making request: 393, set 6 for ID: mayo\n",
      "Making request: 394, set 6 for ID: grand-lahou\n",
      "Making request: 395, set 6 for ID: santa isabel do rio negro\n",
      "Making request: 396, set 6 for ID: marsaxlokk\n",
      "Making request: 397, set 6 for ID: safaga\n",
      "Making request: 398, set 6 for ID: acapulco\n",
      "Making request: 399, set 6 for ID: el limon\n",
      "Making request: 400, set 6 for ID: krasnokamensk\n",
      "Making request: 401, set 6 for ID: ivankiv\n",
      "Making request: 402, set 6 for ID: jonava\n",
      "Making request: 403, set 6 for ID: klaksvik\n",
      "Making request: 404, set 6 for ID: cap malheureux\n",
      "Making request: 405, set 6 for ID: xian\n",
      "Making request: 406, set 6 for ID: salinas\n",
      "Hold for API Limit - 60 seconds\n",
      "Making request: 407, set 7 for ID: saint-joseph\n",
      "Making request: 408, set 7 for ID: alta gracia\n",
      "Making request: 409, set 7 for ID: pevek\n",
      "Making request: 410, set 7 for ID: sedniv\n",
      "Making request: 411, set 7 for ID: san isidro\n",
      "Making request: 412, set 7 for ID: mulchen\n",
      "Making request: 413, set 7 for ID: loreto\n",
      "Making request: 414, set 7 for ID: bereda\n",
      "Making request: 415, set 7 for ID: santa eulalia\n",
      "Making request: 416, set 7 for ID: jinchengjiang\n",
      "Making request: 417, set 7 for ID: homer\n",
      "Making request: 418, set 7 for ID: townsville\n",
      "Making request: 419, set 7 for ID: tabiauea\n",
      "Making request: 420, set 7 for ID: neepawa\n",
      "Making request: 421, set 7 for ID: pickerington\n",
      "Making request: 422, set 7 for ID: alofi\n",
      "Making request: 423, set 7 for ID: shemursha\n",
      "Making request: 424, set 7 for ID: crab hill\n",
      "Making request: 425, set 7 for ID: lagoa\n",
      "Making request: 426, set 7 for ID: indramayu\n",
      "Making request: 427, set 7 for ID: geraldton\n",
      "Making request: 428, set 7 for ID: toora-khem\n",
      "Making request: 429, set 7 for ID: road town\n",
      "Making request: 430, set 7 for ID: piquete\n",
      "Making request: 431, set 7 for ID: monrovia\n",
      "Making request: 432, set 7 for ID: midsalip\n",
      "Making request: 433, set 7 for ID: sao goncalo do amarante\n",
      "Making request: 434, set 7 for ID: kyren\n",
      "Making request: 435, set 7 for ID: bathsheba\n",
      "Making request: 436, set 7 for ID: urdzhar\n",
      "Making request: 437, set 7 for ID: haapsalu\n",
      "Making request: 438, set 7 for ID: providencia\n",
      "Making request: 439, set 7 for ID: hohhot\n",
      "Making request: 440, set 7 for ID: brae\n",
      "Making request: 441, set 7 for ID: mangai\n",
      "Making request: 442, set 7 for ID: gornopravdinsk\n",
      "Making request: 443, set 7 for ID: zomin\n",
      "Making request: 444, set 7 for ID: maroantsetra\n",
      "Making request: 445, set 7 for ID: talara\n",
      "Making request: 446, set 7 for ID: lerwick\n",
      "Making request: 447, set 7 for ID: ahipara\n",
      "Making request: 448, set 7 for ID: seymchan\n",
      "Making request: 449, set 7 for ID: irece\n",
      "Making request: 450, set 7 for ID: camacha\n",
      "Making request: 451, set 7 for ID: changli\n",
      "Making request: 452, set 7 for ID: constitucion\n",
      "Making request: 453, set 7 for ID: haines junction\n",
      "Making request: 454, set 7 for ID: muli\n",
      "Making request: 455, set 7 for ID: nayagarh\n",
      "Making request: 456, set 7 for ID: la rioja\n",
      "Making request: 457, set 7 for ID: kamenskoye\n",
      "Making request: 458, set 7 for ID: chishtian mandi\n",
      "Making request: 459, set 7 for ID: el vendrell\n",
      "Making request: 460, set 7 for ID: yerbogachen\n",
      "Making request: 461, set 7 for ID: okha\n",
      "Making request: 462, set 7 for ID: manyana\n",
      "Making request: 463, set 7 for ID: bargal\n",
      "Making request: 464, set 7 for ID: kupino\n",
      "Hold for API Limit - 60 seconds\n",
      "Making request: 465, set 8 for ID: barbastro\n",
      "Making request: 466, set 8 for ID: meulaboh\n",
      "Making request: 467, set 8 for ID: marivan\n",
      "Making request: 468, set 8 for ID: bageshwar\n",
      "Making request: 469, set 8 for ID: ahar\n",
      "Making request: 470, set 8 for ID: itau de minas\n",
      "Making request: 471, set 8 for ID: faanui\n",
      "Making request: 472, set 8 for ID: karratha\n",
      "Making request: 473, set 8 for ID: komsomolskiy\n",
      "Making request: 474, set 8 for ID: markapur\n",
      "Making request: 475, set 8 for ID: yanan\n",
      "Making request: 476, set 8 for ID: ngukurr\n",
      "Making request: 477, set 8 for ID: safranbolu\n",
      "Making request: 478, set 8 for ID: pali\n",
      "Making request: 479, set 8 for ID: gazli\n",
      "Making request: 480, set 8 for ID: kampong chhnang\n",
      "Making request: 481, set 8 for ID: ucluelet\n",
      "Making request: 482, set 8 for ID: rocha\n",
      "Making request: 483, set 8 for ID: araceli\n",
      "Making request: 484, set 8 for ID: kassala\n",
      "Making request: 485, set 8 for ID: tambul\n",
      "Making request: 486, set 8 for ID: salinopolis\n",
      "Making request: 487, set 8 for ID: baykit\n",
      "Making request: 488, set 8 for ID: atar\n",
      "Making request: 489, set 8 for ID: korla\n",
      "Making request: 490, set 8 for ID: fort washington\n",
      "Making request: 491, set 8 for ID: sitka\n",
      "Making request: 492, set 8 for ID: ures\n",
      "Making request: 493, set 8 for ID: cockburn town\n",
      "Making request: 494, set 8 for ID: sumbe\n",
      "Making request: 495, set 8 for ID: tautira\n",
      "Making request: 496, set 8 for ID: calama\n",
      "Making request: 497, set 8 for ID: dongsheng\n",
      "Making request: 498, set 8 for ID: byron bay\n",
      "Making request: 499, set 8 for ID: galich\n",
      "Making request: 500, set 8 for ID: sarakhs\n",
      "Making request: 501, set 8 for ID: villa rica\n",
      "Making request: 502, set 8 for ID: ruteng\n",
      "Making request: 503, set 8 for ID: novochernorechenskiy\n",
      "Making request: 504, set 8 for ID: nytva\n",
      "Making request: 505, set 8 for ID: myitkyina\n",
      "Making request: 506, set 8 for ID: port antonio\n",
      "Making request: 507, set 8 for ID: mayor pablo lagerenza\n",
      "Making request: 508, set 8 for ID: ulety\n",
      "Making request: 509, set 8 for ID: plettenberg bay\n",
      "Making request: 510, set 8 for ID: tuy hoa\n",
      "Making request: 511, set 8 for ID: yuzhno-yeniseyskiy\n",
      "Making request: 512, set 8 for ID: bria\n",
      "Making request: 513, set 8 for ID: nantucket\n",
      "Making request: 514, set 8 for ID: erzin\n",
      "Making request: 515, set 8 for ID: belyy yar\n",
      "Making request: 516, set 8 for ID: inhambane\n",
      "Making request: 517, set 8 for ID: kysyl-syr\n",
      "Making request: 518, set 8 for ID: sinnamary\n",
      "Making request: 519, set 8 for ID: trojan\n",
      "Making request: 520, set 8 for ID: the valley\n",
      "Making request: 521, set 8 for ID: qaqortoq\n",
      "Making request: 522, set 8 for ID: dubna\n",
      "Hold for API Limit - 60 seconds\n",
      "Making request: 523, set 9 for ID: taylorville\n",
      "Making request: 524, set 9 for ID: matay\n",
      "Making request: 525, set 9 for ID: aksu\n",
      "Making request: 526, set 9 for ID: umm lajj\n",
      "Making request: 527, set 9 for ID: general pico\n",
      "Making request: 528, set 9 for ID: pyapon\n",
      "Making request: 529, set 9 for ID: burlington\n",
      "Making request: 530, set 9 for ID: salalah\n",
      "Making request: 531, set 9 for ID: ilo\n",
      "Making request: 532, set 9 for ID: san vicente\n",
      "Making request: 533, set 9 for ID: nouadhibou\n",
      "Making request: 534, set 9 for ID: hirara\n",
      "Making request: 535, set 9 for ID: cabedelo\n",
      "Making request: 536, set 9 for ID: balikpapan\n",
      "Making request: 537, set 9 for ID: sunland park\n",
      "Making request: 538, set 9 for ID: floro\n",
      "Making request: 539, set 9 for ID: padang\n",
      "Making request: 540, set 9 for ID: sagua de tanamo\n",
      "Making request: 541, set 9 for ID: kharan\n",
      "Making request: 542, set 9 for ID: auki\n",
      "Making request: 543, set 9 for ID: kuytun\n",
      "Making request: 544, set 9 for ID: bambanglipuro\n",
      "Making request: 545, set 9 for ID: lasa\n",
      "Making request: 546, set 9 for ID: muscat\n",
      "Making request: 547, set 9 for ID: misratah\n",
      "Making request: 548, set 9 for ID: beloha\n",
      "Making request: 549, set 9 for ID: maldonado\n",
      "Making request: 550, set 9 for ID: nioro\n",
      "Making request: 551, set 9 for ID: macheng\n"
     ]
    },
    {
     "name": "stdout",
     "output_type": "stream",
     "text": [
      "Making request: 552, set 9 for ID: tsiroanomandidy\n",
      "Making request: 553, set 9 for ID: north bend\n",
      "Making request: 554, set 9 for ID: saint anthony\n",
      "Making request: 555, set 9 for ID: cumaribo\n",
      "Making request: 556, set 9 for ID: kisarazu\n",
      "Making request: 557, set 9 for ID: dunda\n",
      "Making request: 558, set 9 for ID: beipiao\n",
      "Making request: 559, set 9 for ID: hirado\n",
      "Making request: 560, set 9 for ID: pokrovsk\n",
      "Making request: 561, set 9 for ID: san cristobal\n",
      "Making request: 562, set 9 for ID: tonekabon\n",
      "Making request: 563, set 9 for ID: tornio\n",
      "Making request: 564, set 9 for ID: kirkwall\n",
      "Making request: 565, set 9 for ID: sciacca\n",
      "Making request: 566, set 9 for ID: meyungs\n",
      "Making request: 567, set 9 for ID: broome\n",
      "Making request: 568, set 9 for ID: altamira\n",
      "Making request: 569, set 9 for ID: kirovskiy\n",
      "Making request: 570, set 9 for ID: arica\n",
      "Making request: 571, set 9 for ID: ust-kuyga\n",
      "Making request: 572, set 9 for ID: ushumun\n",
      "Making request: 573, set 9 for ID: kautokeino\n",
      "Making request: 574, set 9 for ID: varde\n",
      "Making request: 575, set 9 for ID: sinop\n",
      "Making request: 576, set 9 for ID: masindi\n",
      "Making request: 577, set 9 for ID: sibi\n",
      "Making request: 578, set 9 for ID: te anau\n",
      "Making request: 579, set 9 for ID: rawah\n",
      "Making request: 580, set 9 for ID: mackenzie\n",
      "Hold for API Limit - 60 seconds\n",
      "Making request: 581, set 10 for ID: banda aceh\n",
      "Making request: 582, set 10 for ID: ambilobe\n",
      "Making request: 583, set 10 for ID: kstovo\n",
      "Making request: 584, set 10 for ID: cururupu\n",
      "Making request: 585, set 10 for ID: newport\n",
      "Making request: 586, set 10 for ID: husavik\n",
      "Making request: 587, set 10 for ID: yeniseysk\n",
      "Making request: 588, set 10 for ID: garissa\n",
      "Making request: 589, set 10 for ID: kahului\n",
      "Making request: 590, set 10 for ID: sakakah\n",
      "Making request: 591, set 10 for ID: kesinga\n",
      "Making request: 592, set 10 for ID: snasa\n",
      "Making request: 593, set 10 for ID: allada\n",
      "Making request: 594, set 10 for ID: elbistan\n",
      "Making request: 595, set 10 for ID: bata\n",
      "Making request: 596, set 10 for ID: bento goncalves\n",
      "Making request: 597, set 10 for ID: laiyang\n",
      "Making request: 598, set 10 for ID: mandalgovi\n",
      "Making request: 599, set 10 for ID: namatanai\n",
      "Making request: 600, set 10 for ID: alugan\n",
      "Making request: 601, set 10 for ID: kosh-agach\n",
      "Making request: 602, set 10 for ID: liverpool\n",
      "Making request: 603, set 10 for ID: kungurtug\n",
      "Making request: 604, set 10 for ID: halalo\n",
      "Making request: 605, set 10 for ID: kurchum\n",
      "Making request: 606, set 10 for ID: wasilla\n",
      "Making request: 607, set 10 for ID: banyliv\n",
      "Making request: 608, set 10 for ID: holbeach\n",
      "Making request: 609, set 10 for ID: olafsvik\n",
      "Making request: 610, set 10 for ID: atkarsk\n",
      "Making request: 611, set 10 for ID: canyon\n",
      "Making request: 612, set 10 for ID: grand gaube\n",
      "Making request: 613, set 10 for ID: moose factory\n",
      "Making request: 614, set 10 for ID: himora\n",
      "Making request: 615, set 10 for ID: sept-iles\n",
      "Making request: 616, set 10 for ID: abonnema\n",
      "----------------------------------------\n",
      "Processing Completed\n",
      "0 errors encounted\n",
      "Data for 617 cities recorded\n",
      "----------------------------------------\n"
     ]
    }
   ],
   "source": [
    "# Retrieving data and converting it into JSON\n",
    "\n",
    "print('Beginning Data Retrieval')\n",
    "print('-----------------------------')\n",
    "\n",
    "for x in range(len(cities)):\n",
    "    \n",
    "    try:        \n",
    "        print(f'Making request: {x}, set {sets} for ID: {cities[x]}')\n",
    "        post_response = requests.get(f'{url}{cities[x]}&appid={api_key}&units=imperial')\n",
    "        response_json.append(post_response.json())\n",
    "    except:\n",
    "        print(f'Some error requesting {x}: skipping')\n",
    "        ecount += 1\n",
    "    count += 1\n",
    "    if count == 59:\n",
    "        print(f'Hold for API Limit - 60 seconds')\n",
    "        #time.sleep(60)\n",
    "        sets += 1\n",
    "        count = 1\n",
    "        # reset record counter to count the next 60 cities before another pause.\n",
    "              \n",
    "print(\"----------------------------------------\")\n",
    "print(\"Processing Completed\")\n",
    "print(f\"{ecount} errors encounted\")\n",
    "print(f\"Data for {len(response_json)} cities recorded\")\n",
    "print(\"----------------------------------------\")\n",
    "                                     "
   ]
  },
  {
   "cell_type": "markdown",
   "metadata": {},
   "source": [
    "### Convert Raw Data to DataFrame\n",
    "* Export the city data into a .csv.\n",
    "* Display the DataFrame"
   ]
  },
  {
   "cell_type": "code",
   "execution_count": 48,
   "metadata": {
    "ExecuteTime": {
     "end_time": "2020-09-30T02:37:49.323573Z",
     "start_time": "2020-09-30T02:37:49.321030Z"
    }
   },
   "outputs": [],
   "source": [
    "#print(response_json)"
   ]
  },
  {
   "cell_type": "code",
   "execution_count": 12,
   "metadata": {
    "ExecuteTime": {
     "end_time": "2020-09-29T20:04:17.975762Z",
     "start_time": "2020-09-29T20:04:17.961783Z"
    }
   },
   "outputs": [
    {
     "name": "stdout",
     "output_type": "stream",
     "text": [
      "Ok, something is wrong so skipping 14.\n",
      "Ok, something is wrong so skipping 20.\n",
      "Ok, something is wrong so skipping 38.\n",
      "Ok, something is wrong so skipping 71.\n",
      "Ok, something is wrong so skipping 81.\n",
      "Ok, something is wrong so skipping 86.\n",
      "Ok, something is wrong so skipping 89.\n",
      "Ok, something is wrong so skipping 91.\n",
      "Ok, something is wrong so skipping 104.\n",
      "Ok, something is wrong so skipping 107.\n",
      "Ok, something is wrong so skipping 109.\n",
      "Ok, something is wrong so skipping 163.\n",
      "Ok, something is wrong so skipping 167.\n",
      "Ok, something is wrong so skipping 174.\n",
      "Ok, something is wrong so skipping 181.\n",
      "Ok, something is wrong so skipping 192.\n",
      "Ok, something is wrong so skipping 196.\n",
      "Ok, something is wrong so skipping 205.\n",
      "Ok, something is wrong so skipping 208.\n",
      "Ok, something is wrong so skipping 218.\n",
      "Ok, something is wrong so skipping 238.\n",
      "Ok, something is wrong so skipping 293.\n",
      "Ok, something is wrong so skipping 295.\n",
      "Ok, something is wrong so skipping 313.\n",
      "Ok, something is wrong so skipping 331.\n",
      "Ok, something is wrong so skipping 338.\n",
      "Ok, something is wrong so skipping 339.\n",
      "Ok, something is wrong so skipping 362.\n",
      "Ok, something is wrong so skipping 377.\n",
      "Ok, something is wrong so skipping 378.\n",
      "Ok, something is wrong so skipping 381.\n",
      "Ok, something is wrong so skipping 416.\n",
      "Ok, something is wrong so skipping 419.\n",
      "Ok, something is wrong so skipping 424.\n",
      "Ok, something is wrong so skipping 436.\n",
      "Ok, something is wrong so skipping 457.\n",
      "Ok, something is wrong so skipping 463.\n",
      "Ok, something is wrong so skipping 475.\n",
      "Ok, something is wrong so skipping 476.\n",
      "Ok, something is wrong so skipping 485.\n",
      "Ok, something is wrong so skipping 511.\n",
      "Ok, something is wrong so skipping 555.\n",
      "Ok, something is wrong so skipping 566.\n",
      "Ok, something is wrong so skipping 604.\n",
      "Ok, something is wrong so skipping 614.\n",
      "-----------------------------------------\n",
      "Done reading response_json\n",
      "45 errors encounterd\n",
      "-----------------------------------------\n"
     ]
    }
   ],
   "source": [
    "ecount=0\n",
    "for y in range(len(response_json)):\n",
    "    try:\n",
    "        city.append(response_json[y]['name'])\n",
    "        cloudiness.append(response_json[y]['clouds']['all'])\n",
    "        country.append(response_json[y]['sys']['country'])\n",
    "        date.append(response_json[y]['dt'])\n",
    "        humidity.append(response_json[y]['main']['humidity'])\n",
    "        lat.append(response_json[y]['coord']['lat'])\n",
    "        lng.append(response_json[y]['coord']['lon'])\n",
    "        max_temp.append(response_json[y]['main']['temp_max'])\n",
    "        wind_speed.append(response_json[y]['wind']['speed'])\n",
    "    except KeyError:\n",
    "        print(f\"Ok, something is wrong so skipping {y}.\")\n",
    "        ecount+=1\n",
    "print(\"-----------------------------------------\")\n",
    "print(\"Done reading response_json\")\n",
    "print(f\"{ecount} errors encounterd\")\n",
    "print(\"-----------------------------------------\")"
   ]
  },
  {
   "cell_type": "code",
   "execution_count": 13,
   "metadata": {
    "ExecuteTime": {
     "end_time": "2020-09-29T20:04:21.419301Z",
     "start_time": "2020-09-29T20:04:21.344855Z"
    }
   },
   "outputs": [],
   "source": [
    "df = pd.DataFrame([city, cloudiness, country, date, humidity, lat, lng, max_temp, wind_speed])"
   ]
  },
  {
   "cell_type": "code",
   "execution_count": 14,
   "metadata": {
    "ExecuteTime": {
     "end_time": "2020-09-29T20:04:22.198502Z",
     "start_time": "2020-09-29T20:04:22.192669Z"
    }
   },
   "outputs": [],
   "source": [
    "df = df.transpose()"
   ]
  },
  {
   "cell_type": "code",
   "execution_count": 15,
   "metadata": {
    "ExecuteTime": {
     "end_time": "2020-09-29T20:04:22.758541Z",
     "start_time": "2020-09-29T20:04:22.752550Z"
    }
   },
   "outputs": [],
   "source": [
    "df = df.rename(columns={0:\"City\", 1:\"Cloudiness\", 2:\"Country\", 3:\"Date\", 4 :\"Humidity\",5:\"Lat\",6 :\"Lng\",7: \"Max Temp\", 8 :\"Wind Speed\"})\n"
   ]
  },
  {
   "cell_type": "code",
   "execution_count": 16,
   "metadata": {
    "ExecuteTime": {
     "end_time": "2020-09-29T20:04:23.758089Z",
     "start_time": "2020-09-29T20:04:23.736787Z"
    }
   },
   "outputs": [
    {
     "data": {
      "text/html": [
       "<div>\n",
       "<style scoped>\n",
       "    .dataframe tbody tr th:only-of-type {\n",
       "        vertical-align: middle;\n",
       "    }\n",
       "\n",
       "    .dataframe tbody tr th {\n",
       "        vertical-align: top;\n",
       "    }\n",
       "\n",
       "    .dataframe thead th {\n",
       "        text-align: right;\n",
       "    }\n",
       "</style>\n",
       "<table border=\"1\" class=\"dataframe\">\n",
       "  <thead>\n",
       "    <tr style=\"text-align: right;\">\n",
       "      <th></th>\n",
       "      <th>City</th>\n",
       "      <th>Cloudiness</th>\n",
       "      <th>Country</th>\n",
       "      <th>Date</th>\n",
       "      <th>Humidity</th>\n",
       "      <th>Lat</th>\n",
       "      <th>Lng</th>\n",
       "      <th>Max Temp</th>\n",
       "      <th>Wind Speed</th>\n",
       "    </tr>\n",
       "  </thead>\n",
       "  <tbody>\n",
       "    <tr>\n",
       "      <th>0</th>\n",
       "      <td>Gizo Government Station</td>\n",
       "      <td>88</td>\n",
       "      <td>SB</td>\n",
       "      <td>1601409551</td>\n",
       "      <td>79</td>\n",
       "      <td>-8.1</td>\n",
       "      <td>156.84</td>\n",
       "      <td>80.83</td>\n",
       "      <td>11.77</td>\n",
       "    </tr>\n",
       "    <tr>\n",
       "      <th>1</th>\n",
       "      <td>Severo-Kuril'sk</td>\n",
       "      <td>89</td>\n",
       "      <td>RU</td>\n",
       "      <td>1601409552</td>\n",
       "      <td>90</td>\n",
       "      <td>50.68</td>\n",
       "      <td>156.12</td>\n",
       "      <td>51.49</td>\n",
       "      <td>10.54</td>\n",
       "    </tr>\n",
       "    <tr>\n",
       "      <th>2</th>\n",
       "      <td>Adrar</td>\n",
       "      <td>0</td>\n",
       "      <td>MR</td>\n",
       "      <td>1601409552</td>\n",
       "      <td>16</td>\n",
       "      <td>20.5</td>\n",
       "      <td>-10.07</td>\n",
       "      <td>96.24</td>\n",
       "      <td>8.59</td>\n",
       "    </tr>\n",
       "    <tr>\n",
       "      <th>3</th>\n",
       "      <td>Shagonar</td>\n",
       "      <td>100</td>\n",
       "      <td>RU</td>\n",
       "      <td>1601409552</td>\n",
       "      <td>64</td>\n",
       "      <td>51.53</td>\n",
       "      <td>92.8</td>\n",
       "      <td>42.66</td>\n",
       "      <td>1.16</td>\n",
       "    </tr>\n",
       "    <tr>\n",
       "      <th>4</th>\n",
       "      <td>Port Hardy</td>\n",
       "      <td>40</td>\n",
       "      <td>CA</td>\n",
       "      <td>1601409553</td>\n",
       "      <td>100</td>\n",
       "      <td>50.7</td>\n",
       "      <td>-127.42</td>\n",
       "      <td>55.4</td>\n",
       "      <td>3.36</td>\n",
       "    </tr>\n",
       "    <tr>\n",
       "      <th>...</th>\n",
       "      <td>...</td>\n",
       "      <td>...</td>\n",
       "      <td>...</td>\n",
       "      <td>...</td>\n",
       "      <td>...</td>\n",
       "      <td>...</td>\n",
       "      <td>...</td>\n",
       "      <td>...</td>\n",
       "      <td>...</td>\n",
       "    </tr>\n",
       "    <tr>\n",
       "      <th>567</th>\n",
       "      <td>Canyon</td>\n",
       "      <td>0</td>\n",
       "      <td>US</td>\n",
       "      <td>1601409719</td>\n",
       "      <td>15</td>\n",
       "      <td>34.98</td>\n",
       "      <td>-101.92</td>\n",
       "      <td>80.01</td>\n",
       "      <td>3</td>\n",
       "    </tr>\n",
       "    <tr>\n",
       "      <th>568</th>\n",
       "      <td>Grand Gaube</td>\n",
       "      <td>100</td>\n",
       "      <td>MU</td>\n",
       "      <td>1601409720</td>\n",
       "      <td>81</td>\n",
       "      <td>-20.01</td>\n",
       "      <td>57.66</td>\n",
       "      <td>72</td>\n",
       "      <td>1.99</td>\n",
       "    </tr>\n",
       "    <tr>\n",
       "      <th>569</th>\n",
       "      <td>Moose Factory</td>\n",
       "      <td>90</td>\n",
       "      <td>CA</td>\n",
       "      <td>1601409720</td>\n",
       "      <td>100</td>\n",
       "      <td>51.26</td>\n",
       "      <td>-80.61</td>\n",
       "      <td>50</td>\n",
       "      <td>11.41</td>\n",
       "    </tr>\n",
       "    <tr>\n",
       "      <th>570</th>\n",
       "      <td>Sept-Îles</td>\n",
       "      <td>75</td>\n",
       "      <td>CA</td>\n",
       "      <td>1601409712</td>\n",
       "      <td>82</td>\n",
       "      <td>50.2</td>\n",
       "      <td>-66.38</td>\n",
       "      <td>66.2</td>\n",
       "      <td>9.17</td>\n",
       "    </tr>\n",
       "    <tr>\n",
       "      <th>571</th>\n",
       "      <td>Abonnema</td>\n",
       "      <td>75</td>\n",
       "      <td>NG</td>\n",
       "      <td>1601409720</td>\n",
       "      <td>94</td>\n",
       "      <td>4.71</td>\n",
       "      <td>6.79</td>\n",
       "      <td>77</td>\n",
       "      <td>4.7</td>\n",
       "    </tr>\n",
       "  </tbody>\n",
       "</table>\n",
       "<p>572 rows × 9 columns</p>\n",
       "</div>"
      ],
      "text/plain": [
       "                        City Cloudiness Country        Date Humidity    Lat  \\\n",
       "0    Gizo Government Station         88      SB  1601409551       79   -8.1   \n",
       "1            Severo-Kuril'sk         89      RU  1601409552       90  50.68   \n",
       "2                      Adrar          0      MR  1601409552       16   20.5   \n",
       "3                   Shagonar        100      RU  1601409552       64  51.53   \n",
       "4                 Port Hardy         40      CA  1601409553      100   50.7   \n",
       "..                       ...        ...     ...         ...      ...    ...   \n",
       "567                   Canyon          0      US  1601409719       15  34.98   \n",
       "568              Grand Gaube        100      MU  1601409720       81 -20.01   \n",
       "569            Moose Factory         90      CA  1601409720      100  51.26   \n",
       "570                Sept-Îles         75      CA  1601409712       82   50.2   \n",
       "571                 Abonnema         75      NG  1601409720       94   4.71   \n",
       "\n",
       "        Lng Max Temp Wind Speed  \n",
       "0    156.84    80.83      11.77  \n",
       "1    156.12    51.49      10.54  \n",
       "2    -10.07    96.24       8.59  \n",
       "3      92.8    42.66       1.16  \n",
       "4   -127.42     55.4       3.36  \n",
       "..      ...      ...        ...  \n",
       "567 -101.92    80.01          3  \n",
       "568   57.66       72       1.99  \n",
       "569  -80.61       50      11.41  \n",
       "570  -66.38     66.2       9.17  \n",
       "571    6.79       77        4.7  \n",
       "\n",
       "[572 rows x 9 columns]"
      ]
     },
     "execution_count": 16,
     "metadata": {},
     "output_type": "execute_result"
    }
   ],
   "source": [
    "df"
   ]
  },
  {
   "cell_type": "code",
   "execution_count": 23,
   "metadata": {
    "ExecuteTime": {
     "end_time": "2020-09-29T20:11:49.250363Z",
     "start_time": "2020-09-29T20:11:49.241357Z"
    }
   },
   "outputs": [],
   "source": [
    "#export dataframe to a csv\n",
    "df.to_csv(output_data_file, encoding='utf-8',index=False)"
   ]
  },
  {
   "cell_type": "code",
   "execution_count": 37,
   "metadata": {
    "ExecuteTime": {
     "end_time": "2020-09-30T02:22:25.131535Z",
     "start_time": "2020-09-30T02:22:25.128207Z"
    }
   },
   "outputs": [],
   "source": [
    "from datetime import datetime\n",
    "dt = datetime.now().date()"
   ]
  },
  {
   "cell_type": "code",
   "execution_count": 63,
   "metadata": {
    "ExecuteTime": {
     "end_time": "2020-09-30T03:17:04.919741Z",
     "start_time": "2020-09-30T03:17:04.912418Z"
    }
   },
   "outputs": [],
   "source": [
    "def plotme(x_value, y_value, x_label,y_label,title):\n",
    "    plt.style.use('seaborn')\n",
    "    fig = plt.figure(figsize= (10,6))\n",
    "    plt.scatter(x = x_value, y = y_value, data = df, color = 'forestgreen')\n",
    "    plt.title(f'{title} {dt}', size = 30)\n",
    "    plt.xlabel(x_label, size =25)\n",
    "    plt.xticks(size = 15)\n",
    "    plt.ylabel(y_label, size = 25)\n",
    "    plt.yticks(size = 15)\n",
    "    plt.savefig(f'{title}.png')"
   ]
  },
  {
   "cell_type": "markdown",
   "metadata": {},
   "source": [
    "### Plotting the Data\n",
    "* Use proper labeling of the plots using plot titles (including date of analysis) and axes labels.\n",
    "* Save the plotted figures as .pngs."
   ]
  },
  {
   "cell_type": "markdown",
   "metadata": {},
   "source": [
    "#### Latitude vs. Temperature Plot"
   ]
  },
  {
   "cell_type": "code",
   "execution_count": 64,
   "metadata": {
    "ExecuteTime": {
     "end_time": "2020-09-30T03:17:08.258229Z",
     "start_time": "2020-09-30T03:17:07.960315Z"
    }
   },
   "outputs": [
    {
     "data": {
      "image/png": "[encoded data removed]",
      "text/plain": [
       "<Figure size 720x432 with 1 Axes>"
      ]
     },
     "metadata": {},
     "output_type": "display_data"
    }
   ],
   "source": [
    "plotme('Lat','Max Temp','Latitude','Max Temperature','Latitude vs Temperature')\n"
   ]
  },
  {
   "cell_type": "markdown",
   "metadata": {},
   "source": [
    "#### Latitude vs. Humidity Plot"
   ]
  },
  {
   "cell_type": "code",
   "execution_count": 65,
   "metadata": {
    "ExecuteTime": {
     "end_time": "2020-09-30T03:18:01.038683Z",
     "start_time": "2020-09-30T03:18:00.745116Z"
    }
   },
   "outputs": [
    {
     "data": {
      "image/png": "[encoded data removed]",
      "text/plain": [
       "<Figure size 720x432 with 1 Axes>"
      ]
     },
     "metadata": {},
     "output_type": "display_data"
    }
   ],
   "source": [
    "plotme('Lat','Humidity','Latitude','Humidity','Latitude vs Humidity')\n"
   ]
  },
  {
   "cell_type": "markdown",
   "metadata": {},
   "source": [
    "#### Latitude vs. Cloudiness Plot"
   ]
  },
  {
   "cell_type": "code",
   "execution_count": 57,
   "metadata": {
    "ExecuteTime": {
     "end_time": "2020-09-30T03:11:37.614151Z",
     "start_time": "2020-09-30T03:11:37.410100Z"
    }
   },
   "outputs": [
    {
     "data": {
      "image/png": "[encoded data removed]",
      "text/plain": [
       "<Figure size 720x432 with 1 Axes>"
      ]
     },
     "metadata": {},
     "output_type": "display_data"
    }
   ],
   "source": [
    "plotme('Lat','Cloudiness','Latitude','Cloudiness','Latitude vs Cloudiness')"
   ]
  },
  {
   "cell_type": "markdown",
   "metadata": {},
   "source": [
    "#### Latitude vs. Wind Speed Plot"
   ]
  },
  {
   "cell_type": "code",
   "execution_count": 61,
   "metadata": {
    "ExecuteTime": {
     "end_time": "2020-09-30T03:13:14.981109Z",
     "start_time": "2020-09-30T03:13:14.336339Z"
    }
   },
   "outputs": [
    {
     "data": {
      "image/png": "[encoded data removed]",
      "text/plain": [
       "<Figure size 720x432 with 1 Axes>"
      ]
     },
     "metadata": {},
     "output_type": "display_data"
    }
   ],
   "source": [
    "plotme('Lat','Wind Speed','Latitude','Wind Speed','Latitude vs Wind Speed')"
   ]
  },
  {
   "cell_type": "markdown",
   "metadata": {},
   "source": [
    "## Linear Regression"
   ]
  },
  {
   "cell_type": "code",
   "execution_count": 7,
   "metadata": {
    "ExecuteTime": {
     "end_time": "2020-09-29T19:28:41.929387Z",
     "start_time": "2020-09-29T19:28:41.925392Z"
    }
   },
   "outputs": [],
   "source": [
    "# OPTIONAL: Create a function to create Linear Regression plots\n"
   ]
  },
  {
   "cell_type": "code",
   "execution_count": 8,
   "metadata": {
    "ExecuteTime": {
     "end_time": "2020-09-29T19:28:41.955711Z",
     "start_time": "2020-09-29T19:28:41.934410Z"
    }
   },
   "outputs": [],
   "source": [
    "# Create Northern and Southern Hemisphere DataFrames\n"
   ]
  },
  {
   "cell_type": "markdown",
   "metadata": {},
   "source": [
    "####  Northern Hemisphere - Max Temp vs. Latitude Linear Regression"
   ]
  },
  {
   "cell_type": "code",
   "execution_count": null,
   "metadata": {},
   "outputs": [],
   "source": []
  },
  {
   "cell_type": "markdown",
   "metadata": {},
   "source": [
    "####  Southern Hemisphere - Max Temp vs. Latitude Linear Regression"
   ]
  },
  {
   "cell_type": "code",
   "execution_count": null,
   "metadata": {},
   "outputs": [],
   "source": []
  },
  {
   "cell_type": "markdown",
   "metadata": {},
   "source": [
    "####  Northern Hemisphere - Humidity (%) vs. Latitude Linear Regression"
   ]
  },
  {
   "cell_type": "code",
   "execution_count": null,
   "metadata": {},
   "outputs": [],
   "source": []
  },
  {
   "cell_type": "markdown",
   "metadata": {},
   "source": [
    "####  Southern Hemisphere - Humidity (%) vs. Latitude Linear Regression"
   ]
  },
  {
   "cell_type": "code",
   "execution_count": null,
   "metadata": {},
   "outputs": [],
   "source": []
  },
  {
   "cell_type": "markdown",
   "metadata": {},
   "source": [
    "####  Northern Hemisphere - Cloudiness (%) vs. Latitude Linear Regression"
   ]
  },
  {
   "cell_type": "code",
   "execution_count": null,
   "metadata": {},
   "outputs": [],
   "source": []
  },
  {
   "cell_type": "markdown",
   "metadata": {},
   "source": [
    "####  Southern Hemisphere - Cloudiness (%) vs. Latitude Linear Regression"
   ]
  },
  {
   "cell_type": "code",
   "execution_count": null,
   "metadata": {},
   "outputs": [],
   "source": []
  },
  {
   "cell_type": "markdown",
   "metadata": {},
   "source": [
    "####  Northern Hemisphere - Wind Speed (mph) vs. Latitude Linear Regression"
   ]
  },
  {
   "cell_type": "code",
   "execution_count": null,
   "metadata": {},
   "outputs": [],
   "source": []
  },
  {
   "cell_type": "markdown",
   "metadata": {},
   "source": [
    "####  Southern Hemisphere - Wind Speed (mph) vs. Latitude Linear Regression"
   ]
  },
  {
   "cell_type": "code",
   "execution_count": null,
   "metadata": {},
   "outputs": [],
   "source": []
  },
  {
   "cell_type": "code",
   "execution_count": null,
   "metadata": {},
   "outputs": [],
   "source": []
  }
 ],
 "metadata": {
  "anaconda-cloud": {},
  "kernel_info": {
   "name": "python3"
  },
  "kernelspec": {
   "display_name": "Python 3",
   "language": "python",
   "name": "python3"
  },
  "language_info": {
   "codemirror_mode": {
    "name": "ipython",
    "version": 3
   },
   "file_extension": ".py",
   "mimetype": "text/x-python",
   "name": "python",
   "nbconvert_exporter": "python",
   "pygments_lexer": "ipython3",
   "version": "3.7.7"
  },
  "latex_envs": {
   "LaTeX_envs_menu_present": true,
   "autoclose": false,
   "autocomplete": true,
   "bibliofile": "biblio.bib",
   "cite_by": "apalike",
   "current_citInitial": 1,
   "eqLabelWithNumbers": true,
   "eqNumInitial": 1,
   "hotkeys": {
    "equation": "Ctrl-E",
    "itemize": "Ctrl-I"
   },
   "labels_anchors": false,
   "latex_user_defs": false,
   "report_style_numbering": false,
   "user_envs_cfg": false
  },
  "nteract": {
   "version": "0.12.3"
  },
  "toc": {
   "base_numbering": 1,
   "nav_menu": {},
   "number_sections": true,
   "sideBar": true,
   "skip_h1_title": false,
   "title_cell": "Table of Contents",
   "title_sidebar": "Contents",
   "toc_cell": false,
   "toc_position": {},
   "toc_section_display": true,
   "toc_window_display": false
  },
  "varInspector": {
   "cols": {
    "lenName": 16,
    "lenType": 16,
    "lenVar": 40
   },
   "kernels_config": {
    "python": {
     "delete_cmd_postfix": "",
     "delete_cmd_prefix": "del ",
     "library": "var_list.py",
     "varRefreshCmd": "print(var_dic_list())"
    },
    "r": {
     "delete_cmd_postfix": ") ",
     "delete_cmd_prefix": "rm(",
     "library": "var_list.r",
     "varRefreshCmd": "cat(var_dic_list()) "
    }
   },
   "types_to_exclude": [
    "module",
    "function",
    "builtin_function_or_method",
    "instance",
    "_Feature"
   ],
   "window_display": false
  }
 },
 "nbformat": 4,
 "nbformat_minor": 2
}
